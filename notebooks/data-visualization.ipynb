{
 "cells": [
  {
   "cell_type": "code",
   "execution_count": 1,
   "metadata": {},
   "outputs": [
    {
     "data": {
      "text/html": [
       "<div>\n",
       "<style scoped>\n",
       "    .dataframe tbody tr th:only-of-type {\n",
       "        vertical-align: middle;\n",
       "    }\n",
       "\n",
       "    .dataframe tbody tr th {\n",
       "        vertical-align: top;\n",
       "    }\n",
       "\n",
       "    .dataframe thead th {\n",
       "        text-align: right;\n",
       "    }\n",
       "</style>\n",
       "<table border=\"1\" class=\"dataframe\">\n",
       "  <thead>\n",
       "    <tr style=\"text-align: right;\">\n",
       "      <th></th>\n",
       "      <th>Overall rank</th>\n",
       "      <th>Country or region</th>\n",
       "      <th>Score</th>\n",
       "      <th>GDP per capita</th>\n",
       "      <th>Social support</th>\n",
       "      <th>Healthy life expectancy</th>\n",
       "      <th>Freedom to make life choices</th>\n",
       "      <th>Generosity</th>\n",
       "      <th>Perceptions of corruption</th>\n",
       "    </tr>\n",
       "  </thead>\n",
       "  <tbody>\n",
       "    <tr>\n",
       "      <th>0</th>\n",
       "      <td>1</td>\n",
       "      <td>Finland</td>\n",
       "      <td>7.769</td>\n",
       "      <td>1.340</td>\n",
       "      <td>1.587</td>\n",
       "      <td>0.986</td>\n",
       "      <td>0.596</td>\n",
       "      <td>0.153</td>\n",
       "      <td>0.393</td>\n",
       "    </tr>\n",
       "    <tr>\n",
       "      <th>1</th>\n",
       "      <td>2</td>\n",
       "      <td>Denmark</td>\n",
       "      <td>7.600</td>\n",
       "      <td>1.383</td>\n",
       "      <td>1.573</td>\n",
       "      <td>0.996</td>\n",
       "      <td>0.592</td>\n",
       "      <td>0.252</td>\n",
       "      <td>0.410</td>\n",
       "    </tr>\n",
       "    <tr>\n",
       "      <th>2</th>\n",
       "      <td>3</td>\n",
       "      <td>Norway</td>\n",
       "      <td>7.554</td>\n",
       "      <td>1.488</td>\n",
       "      <td>1.582</td>\n",
       "      <td>1.028</td>\n",
       "      <td>0.603</td>\n",
       "      <td>0.271</td>\n",
       "      <td>0.341</td>\n",
       "    </tr>\n",
       "    <tr>\n",
       "      <th>3</th>\n",
       "      <td>4</td>\n",
       "      <td>Iceland</td>\n",
       "      <td>7.494</td>\n",
       "      <td>1.380</td>\n",
       "      <td>1.624</td>\n",
       "      <td>1.026</td>\n",
       "      <td>0.591</td>\n",
       "      <td>0.354</td>\n",
       "      <td>0.118</td>\n",
       "    </tr>\n",
       "    <tr>\n",
       "      <th>4</th>\n",
       "      <td>5</td>\n",
       "      <td>Netherlands</td>\n",
       "      <td>7.488</td>\n",
       "      <td>1.396</td>\n",
       "      <td>1.522</td>\n",
       "      <td>0.999</td>\n",
       "      <td>0.557</td>\n",
       "      <td>0.322</td>\n",
       "      <td>0.298</td>\n",
       "    </tr>\n",
       "  </tbody>\n",
       "</table>\n",
       "</div>"
      ],
      "text/plain": [
       "   Overall rank Country or region  Score  GDP per capita  Social support  \\\n",
       "0             1           Finland  7.769           1.340           1.587   \n",
       "1             2           Denmark  7.600           1.383           1.573   \n",
       "2             3            Norway  7.554           1.488           1.582   \n",
       "3             4           Iceland  7.494           1.380           1.624   \n",
       "4             5       Netherlands  7.488           1.396           1.522   \n",
       "\n",
       "   Healthy life expectancy  Freedom to make life choices  Generosity  \\\n",
       "0                    0.986                         0.596       0.153   \n",
       "1                    0.996                         0.592       0.252   \n",
       "2                    1.028                         0.603       0.271   \n",
       "3                    1.026                         0.591       0.354   \n",
       "4                    0.999                         0.557       0.322   \n",
       "\n",
       "   Perceptions of corruption  \n",
       "0                      0.393  \n",
       "1                      0.410  \n",
       "2                      0.341  \n",
       "3                      0.118  \n",
       "4                      0.298  "
      ]
     },
     "execution_count": 1,
     "metadata": {},
     "output_type": "execute_result"
    }
   ],
   "source": [
    "import pandas as pd\n",
    "import numpy as np\n",
    "import matplotlib.pyplot as plt\n",
    "import seaborn as sns\n",
    "import plotly.express as px\n",
    "import warnings\n",
    "\n",
    "warnings.filterwarnings(\"ignore\")\n",
    "\n",
    "from jupyterthemes import jtplot\n",
    "\n",
    "jtplot.style(theme=\"monokai\", context=\"notebook\", ticks=True, grid=False)\n",
    "df = pd.read_csv(\"happiness-report.csv\")\n",
    "df.head()"
   ]
  },
  {
   "cell_type": "code",
   "execution_count": 16,
   "metadata": {},
   "outputs": [
    {
     "name": "stdout",
     "output_type": "stream",
     "text": [
      "   Overall rank Country or region  Score  GDP per capita  Social support  \\\n",
      "0             1           Finland  7.769           1.340           1.587   \n",
      "1             2           Denmark  7.600           1.383           1.573   \n",
      "\n",
      "   Healthy life expectancy  Freedom to make life choices  Generosity  \\\n",
      "0                    0.986                         0.596       0.153   \n",
      "1                    0.996                         0.592       0.252   \n",
      "\n",
      "   Perceptions of corruption  \n",
      "0                      0.393  \n",
      "1                      0.410  \n"
     ]
    }
   ],
   "source": [
    "selected_countries = df[df[\"Country or region\"].isin([\"Finland\", \"Denmark\"])]\n",
    "print(selected_countries)"
   ]
  },
  {
   "cell_type": "code",
   "execution_count": 17,
   "metadata": {},
   "outputs": [
    {
     "name": "stdout",
     "output_type": "stream",
     "text": [
      "<class 'pandas.core.frame.DataFrame'>\n",
      "RangeIndex: 156 entries, 0 to 155\n",
      "Data columns (total 9 columns):\n",
      " #   Column                        Non-Null Count  Dtype  \n",
      "---  ------                        --------------  -----  \n",
      " 0   Overall rank                  156 non-null    int64  \n",
      " 1   Country or region             156 non-null    object \n",
      " 2   Score                         156 non-null    float64\n",
      " 3   GDP per capita                156 non-null    float64\n",
      " 4   Social support                156 non-null    float64\n",
      " 5   Healthy life expectancy       156 non-null    float64\n",
      " 6   Freedom to make life choices  156 non-null    float64\n",
      " 7   Generosity                    156 non-null    float64\n",
      " 8   Perceptions of corruption     156 non-null    float64\n",
      "dtypes: float64(7), int64(1), object(1)\n",
      "memory usage: 11.1+ KB\n"
     ]
    }
   ],
   "source": [
    "# Check the number of non-null values in the dataframe\n",
    "happy_df.info()"
   ]
  },
  {
   "cell_type": "code",
   "execution_count": 18,
   "metadata": {},
   "outputs": [
    {
     "data": {
      "text/html": [
       "<div>\n",
       "<style scoped>\n",
       "    .dataframe tbody tr th:only-of-type {\n",
       "        vertical-align: middle;\n",
       "    }\n",
       "\n",
       "    .dataframe tbody tr th {\n",
       "        vertical-align: top;\n",
       "    }\n",
       "\n",
       "    .dataframe thead th {\n",
       "        text-align: right;\n",
       "    }\n",
       "</style>\n",
       "<table border=\"1\" class=\"dataframe\">\n",
       "  <thead>\n",
       "    <tr style=\"text-align: right;\">\n",
       "      <th></th>\n",
       "      <th>Overall rank</th>\n",
       "      <th>Score</th>\n",
       "      <th>GDP per capita</th>\n",
       "      <th>Social support</th>\n",
       "      <th>Healthy life expectancy</th>\n",
       "      <th>Freedom to make life choices</th>\n",
       "      <th>Generosity</th>\n",
       "      <th>Perceptions of corruption</th>\n",
       "    </tr>\n",
       "  </thead>\n",
       "  <tbody>\n",
       "    <tr>\n",
       "      <th>count</th>\n",
       "      <td>156.000000</td>\n",
       "      <td>156.000000</td>\n",
       "      <td>156.000000</td>\n",
       "      <td>156.000000</td>\n",
       "      <td>156.000000</td>\n",
       "      <td>156.000000</td>\n",
       "      <td>156.000000</td>\n",
       "      <td>156.000000</td>\n",
       "    </tr>\n",
       "    <tr>\n",
       "      <th>mean</th>\n",
       "      <td>78.500000</td>\n",
       "      <td>5.407096</td>\n",
       "      <td>0.905147</td>\n",
       "      <td>1.208814</td>\n",
       "      <td>0.725244</td>\n",
       "      <td>0.392571</td>\n",
       "      <td>0.184846</td>\n",
       "      <td>0.110603</td>\n",
       "    </tr>\n",
       "    <tr>\n",
       "      <th>std</th>\n",
       "      <td>45.177428</td>\n",
       "      <td>1.113120</td>\n",
       "      <td>0.398389</td>\n",
       "      <td>0.299191</td>\n",
       "      <td>0.242124</td>\n",
       "      <td>0.143289</td>\n",
       "      <td>0.095254</td>\n",
       "      <td>0.094538</td>\n",
       "    </tr>\n",
       "    <tr>\n",
       "      <th>min</th>\n",
       "      <td>1.000000</td>\n",
       "      <td>2.853000</td>\n",
       "      <td>0.000000</td>\n",
       "      <td>0.000000</td>\n",
       "      <td>0.000000</td>\n",
       "      <td>0.000000</td>\n",
       "      <td>0.000000</td>\n",
       "      <td>0.000000</td>\n",
       "    </tr>\n",
       "    <tr>\n",
       "      <th>25%</th>\n",
       "      <td>39.750000</td>\n",
       "      <td>4.544500</td>\n",
       "      <td>0.602750</td>\n",
       "      <td>1.055750</td>\n",
       "      <td>0.547750</td>\n",
       "      <td>0.308000</td>\n",
       "      <td>0.108750</td>\n",
       "      <td>0.047000</td>\n",
       "    </tr>\n",
       "    <tr>\n",
       "      <th>50%</th>\n",
       "      <td>78.500000</td>\n",
       "      <td>5.379500</td>\n",
       "      <td>0.960000</td>\n",
       "      <td>1.271500</td>\n",
       "      <td>0.789000</td>\n",
       "      <td>0.417000</td>\n",
       "      <td>0.177500</td>\n",
       "      <td>0.085500</td>\n",
       "    </tr>\n",
       "    <tr>\n",
       "      <th>75%</th>\n",
       "      <td>117.250000</td>\n",
       "      <td>6.184500</td>\n",
       "      <td>1.232500</td>\n",
       "      <td>1.452500</td>\n",
       "      <td>0.881750</td>\n",
       "      <td>0.507250</td>\n",
       "      <td>0.248250</td>\n",
       "      <td>0.141250</td>\n",
       "    </tr>\n",
       "    <tr>\n",
       "      <th>max</th>\n",
       "      <td>156.000000</td>\n",
       "      <td>7.769000</td>\n",
       "      <td>1.684000</td>\n",
       "      <td>1.624000</td>\n",
       "      <td>1.141000</td>\n",
       "      <td>0.631000</td>\n",
       "      <td>0.566000</td>\n",
       "      <td>0.453000</td>\n",
       "    </tr>\n",
       "  </tbody>\n",
       "</table>\n",
       "</div>"
      ],
      "text/plain": [
       "       Overall rank       Score  GDP per capita  Social support  \\\n",
       "count    156.000000  156.000000      156.000000      156.000000   \n",
       "mean      78.500000    5.407096        0.905147        1.208814   \n",
       "std       45.177428    1.113120        0.398389        0.299191   \n",
       "min        1.000000    2.853000        0.000000        0.000000   \n",
       "25%       39.750000    4.544500        0.602750        1.055750   \n",
       "50%       78.500000    5.379500        0.960000        1.271500   \n",
       "75%      117.250000    6.184500        1.232500        1.452500   \n",
       "max      156.000000    7.769000        1.684000        1.624000   \n",
       "\n",
       "       Healthy life expectancy  Freedom to make life choices  Generosity  \\\n",
       "count               156.000000                    156.000000  156.000000   \n",
       "mean                  0.725244                      0.392571    0.184846   \n",
       "std                   0.242124                      0.143289    0.095254   \n",
       "min                   0.000000                      0.000000    0.000000   \n",
       "25%                   0.547750                      0.308000    0.108750   \n",
       "50%                   0.789000                      0.417000    0.177500   \n",
       "75%                   0.881750                      0.507250    0.248250   \n",
       "max                   1.141000                      0.631000    0.566000   \n",
       "\n",
       "       Perceptions of corruption  \n",
       "count                 156.000000  \n",
       "mean                    0.110603  \n",
       "std                     0.094538  \n",
       "min                     0.000000  \n",
       "25%                     0.047000  \n",
       "50%                     0.085500  \n",
       "75%                     0.141250  \n",
       "max                     0.453000  "
      ]
     },
     "execution_count": 18,
     "metadata": {},
     "output_type": "execute_result"
    }
   ],
   "source": [
    "# Obtain the Statistical summary of the dataframe\n",
    "happy_df.describe()"
   ]
  },
  {
   "cell_type": "code",
   "execution_count": 19,
   "metadata": {},
   "outputs": [
    {
     "data": {
      "text/plain": [
       "np.int64(0)"
      ]
     },
     "execution_count": 19,
     "metadata": {},
     "output_type": "execute_result"
    }
   ],
   "source": [
    "# check the number of duplicated entries in the dataframe\n",
    "happy_df.duplicated().sum() # since there are no duplicates, no further action is required"
   ]
  },
  {
   "cell_type": "code",
   "execution_count": 20,
   "metadata": {},
   "outputs": [
    {
     "name": "stdout",
     "output_type": "stream",
     "text": [
      "Overall rank                          1\n",
      "Country or region               Finland\n",
      "Score                             7.769\n",
      "GDP per capita                     1.34\n",
      "Social support                    1.587\n",
      "Healthy life expectancy           0.986\n",
      "Freedom to make life choices      0.596\n",
      "Generosity                        0.153\n",
      "Perceptions of corruption         0.393\n",
      "Name: 0, dtype: object\n"
     ]
    }
   ],
   "source": [
    "max_happiness_country = df.loc[df['Score'].idxmax()]\n",
    "print(max_happiness_country)"
   ]
  },
  {
   "cell_type": "code",
   "execution_count": 21,
   "metadata": {},
   "outputs": [
    {
     "data": {
      "text/html": [
       "<div>\n",
       "<style scoped>\n",
       "    .dataframe tbody tr th:only-of-type {\n",
       "        vertical-align: middle;\n",
       "    }\n",
       "\n",
       "    .dataframe tbody tr th {\n",
       "        vertical-align: top;\n",
       "    }\n",
       "\n",
       "    .dataframe thead th {\n",
       "        text-align: right;\n",
       "    }\n",
       "</style>\n",
       "<table border=\"1\" class=\"dataframe\">\n",
       "  <thead>\n",
       "    <tr style=\"text-align: right;\">\n",
       "      <th></th>\n",
       "      <th>Overall rank</th>\n",
       "      <th>Country or region</th>\n",
       "      <th>Score</th>\n",
       "      <th>GDP per capita</th>\n",
       "      <th>Social support</th>\n",
       "      <th>Healthy life expectancy</th>\n",
       "      <th>Freedom to make life choices</th>\n",
       "      <th>Generosity</th>\n",
       "      <th>Perceptions of corruption</th>\n",
       "    </tr>\n",
       "  </thead>\n",
       "  <tbody>\n",
       "    <tr>\n",
       "      <th>151</th>\n",
       "      <td>152</td>\n",
       "      <td>Rwanda</td>\n",
       "      <td>3.334</td>\n",
       "      <td>0.359</td>\n",
       "      <td>0.711</td>\n",
       "      <td>0.614</td>\n",
       "      <td>0.555</td>\n",
       "      <td>0.217</td>\n",
       "      <td>0.411</td>\n",
       "    </tr>\n",
       "    <tr>\n",
       "      <th>152</th>\n",
       "      <td>153</td>\n",
       "      <td>Tanzania</td>\n",
       "      <td>3.231</td>\n",
       "      <td>0.476</td>\n",
       "      <td>0.885</td>\n",
       "      <td>0.499</td>\n",
       "      <td>0.417</td>\n",
       "      <td>0.276</td>\n",
       "      <td>0.147</td>\n",
       "    </tr>\n",
       "    <tr>\n",
       "      <th>153</th>\n",
       "      <td>154</td>\n",
       "      <td>Afghanistan</td>\n",
       "      <td>3.203</td>\n",
       "      <td>0.350</td>\n",
       "      <td>0.517</td>\n",
       "      <td>0.361</td>\n",
       "      <td>0.000</td>\n",
       "      <td>0.158</td>\n",
       "      <td>0.025</td>\n",
       "    </tr>\n",
       "    <tr>\n",
       "      <th>154</th>\n",
       "      <td>155</td>\n",
       "      <td>Central African Republic</td>\n",
       "      <td>3.083</td>\n",
       "      <td>0.026</td>\n",
       "      <td>0.000</td>\n",
       "      <td>0.105</td>\n",
       "      <td>0.225</td>\n",
       "      <td>0.235</td>\n",
       "      <td>0.035</td>\n",
       "    </tr>\n",
       "    <tr>\n",
       "      <th>155</th>\n",
       "      <td>156</td>\n",
       "      <td>South Sudan</td>\n",
       "      <td>2.853</td>\n",
       "      <td>0.306</td>\n",
       "      <td>0.575</td>\n",
       "      <td>0.295</td>\n",
       "      <td>0.010</td>\n",
       "      <td>0.202</td>\n",
       "      <td>0.091</td>\n",
       "    </tr>\n",
       "  </tbody>\n",
       "</table>\n",
       "</div>"
      ],
      "text/plain": [
       "     Overall rank         Country or region  Score  GDP per capita  \\\n",
       "151           152                    Rwanda  3.334           0.359   \n",
       "152           153                  Tanzania  3.231           0.476   \n",
       "153           154               Afghanistan  3.203           0.350   \n",
       "154           155  Central African Republic  3.083           0.026   \n",
       "155           156               South Sudan  2.853           0.306   \n",
       "\n",
       "     Social support  Healthy life expectancy  Freedom to make life choices  \\\n",
       "151           0.711                    0.614                         0.555   \n",
       "152           0.885                    0.499                         0.417   \n",
       "153           0.517                    0.361                         0.000   \n",
       "154           0.000                    0.105                         0.225   \n",
       "155           0.575                    0.295                         0.010   \n",
       "\n",
       "     Generosity  Perceptions of corruption  \n",
       "151       0.217                      0.411  \n",
       "152       0.276                      0.147  \n",
       "153       0.158                      0.025  \n",
       "154       0.235                      0.035  \n",
       "155       0.202                      0.091  "
      ]
     },
     "execution_count": 21,
     "metadata": {},
     "output_type": "execute_result"
    }
   ],
   "source": [
    "df.tail()"
   ]
  },
  {
   "cell_type": "code",
   "execution_count": 2,
   "metadata": {},
   "outputs": [
    {
     "name": "stdout",
     "output_type": "stream",
     "text": [
      "   Overall rank Country or region  Score  GDP per capita  Social support  \\\n",
      "8             9            Canada  7.278           1.365           1.505   \n",
      "\n",
      "   Healthy life expectancy  Freedom to make life choices  Generosity  \\\n",
      "8                    1.039                         0.584       0.285   \n",
      "\n",
      "   Perceptions of corruption  \n",
      "8                      0.308  \n"
     ]
    }
   ],
   "source": [
    "can = df[df[\"Country or region\"] == \"Canada\"]\n",
    "print(can)"
   ]
  },
  {
   "cell_type": "code",
   "execution_count": 4,
   "metadata": {},
   "outputs": [
    {
     "data": {
      "text/plain": [
       "Overall rank                    0\n",
       "Country or region               0\n",
       "Score                           0\n",
       "GDP per capita                  0\n",
       "Social support                  0\n",
       "Healthy life expectancy         0\n",
       "Freedom to make life choices    0\n",
       "Generosity                      0\n",
       "Perceptions of corruption       0\n",
       "dtype: int64"
      ]
     },
     "execution_count": 4,
     "metadata": {},
     "output_type": "execute_result"
    }
   ],
   "source": [
    "df.isnull().sum()"
   ]
  },
  {
   "cell_type": "code",
   "execution_count": 6,
   "metadata": {},
   "outputs": [
    {
     "data": {
      "text/html": [
       "<div>\n",
       "<style scoped>\n",
       "    .dataframe tbody tr th:only-of-type {\n",
       "        vertical-align: middle;\n",
       "    }\n",
       "\n",
       "    .dataframe tbody tr th {\n",
       "        vertical-align: top;\n",
       "    }\n",
       "\n",
       "    .dataframe thead th {\n",
       "        text-align: right;\n",
       "    }\n",
       "</style>\n",
       "<table border=\"1\" class=\"dataframe\">\n",
       "  <thead>\n",
       "    <tr style=\"text-align: right;\">\n",
       "      <th></th>\n",
       "      <th>Overall rank</th>\n",
       "      <th>Country or region</th>\n",
       "      <th>Score</th>\n",
       "      <th>GDP per capita</th>\n",
       "      <th>Social support</th>\n",
       "      <th>Healthy life expectancy</th>\n",
       "      <th>Freedom to make life choices</th>\n",
       "      <th>Generosity</th>\n",
       "      <th>Perceptions of corruption</th>\n",
       "    </tr>\n",
       "  </thead>\n",
       "  <tbody>\n",
       "    <tr>\n",
       "      <th>0</th>\n",
       "      <td>1</td>\n",
       "      <td>Finland</td>\n",
       "      <td>7.769</td>\n",
       "      <td>1.34</td>\n",
       "      <td>1.587</td>\n",
       "      <td>0.986</td>\n",
       "      <td>0.596</td>\n",
       "      <td>0.153</td>\n",
       "      <td>0.393</td>\n",
       "    </tr>\n",
       "  </tbody>\n",
       "</table>\n",
       "</div>"
      ],
      "text/plain": [
       "   Overall rank Country or region  Score  GDP per capita  Social support  \\\n",
       "0             1           Finland  7.769            1.34           1.587   \n",
       "\n",
       "   Healthy life expectancy  Freedom to make life choices  Generosity  \\\n",
       "0                    0.986                         0.596       0.153   \n",
       "\n",
       "   Perceptions of corruption  \n",
       "0                      0.393  "
      ]
     },
     "execution_count": 6,
     "metadata": {},
     "output_type": "execute_result"
    }
   ],
   "source": [
    "df[df['Score'] == 7.769000]"
   ]
  },
  {
   "cell_type": "code",
   "execution_count": 10,
   "metadata": {},
   "outputs": [
    {
     "name": "stdout",
     "output_type": "stream",
     "text": [
      "Overall rank                          1\n",
      "Country or region               Finland\n",
      "Score                             7.769\n",
      "GDP per capita                     1.34\n",
      "Social support                    1.587\n",
      "Healthy life expectancy           0.986\n",
      "Freedom to make life choices      0.596\n",
      "Generosity                        0.153\n",
      "Perceptions of corruption         0.393\n",
      "Name: 0, dtype: object\n"
     ]
    }
   ],
   "source": [
    "max_happiness_country = df.loc[df['Score'].idxmax()]\n",
    "print(max_happiness_country)"
   ]
  },
  {
   "cell_type": "code",
   "execution_count": 11,
   "metadata": {},
   "outputs": [
    {
     "name": "stdout",
     "output_type": "stream",
     "text": [
      "Overall rank                           34\n",
      "Country or region               Singapore\n",
      "Score                               6.262\n",
      "GDP per capita                      1.572\n",
      "Social support                      1.463\n",
      "Healthy life expectancy             1.141\n",
      "Freedom to make life choices        0.556\n",
      "Generosity                          0.271\n",
      "Perceptions of corruption           0.453\n",
      "Name: 33, dtype: object\n"
     ]
    }
   ],
   "source": [
    "max_corruption = df.loc[df['Perceptions of corruption'].idxmax()]\n",
    "print(max_corruption)"
   ]
  },
  {
   "cell_type": "code",
   "execution_count": null,
   "metadata": {},
   "outputs": [
    {
     "data": {
      "text/plain": [
       "np.float64(0.453)"
      ]
     },
     "execution_count": 13,
     "metadata": {},
     "output_type": "execute_result"
    }
   ],
   "source": []
  },
  {
   "cell_type": "code",
   "execution_count": 14,
   "metadata": {},
   "outputs": [
    {
     "data": {
      "text/html": [
       "<div>\n",
       "<style scoped>\n",
       "    .dataframe tbody tr th:only-of-type {\n",
       "        vertical-align: middle;\n",
       "    }\n",
       "\n",
       "    .dataframe tbody tr th {\n",
       "        vertical-align: top;\n",
       "    }\n",
       "\n",
       "    .dataframe thead th {\n",
       "        text-align: right;\n",
       "    }\n",
       "</style>\n",
       "<table border=\"1\" class=\"dataframe\">\n",
       "  <thead>\n",
       "    <tr style=\"text-align: right;\">\n",
       "      <th></th>\n",
       "      <th>Overall rank</th>\n",
       "      <th>Country or region</th>\n",
       "      <th>Score</th>\n",
       "      <th>GDP per capita</th>\n",
       "      <th>Social support</th>\n",
       "      <th>Healthy life expectancy</th>\n",
       "      <th>Freedom to make life choices</th>\n",
       "      <th>Generosity</th>\n",
       "      <th>Perceptions of corruption</th>\n",
       "    </tr>\n",
       "  </thead>\n",
       "  <tbody>\n",
       "    <tr>\n",
       "      <th>0</th>\n",
       "      <td>1</td>\n",
       "      <td>Finland</td>\n",
       "      <td>7.769</td>\n",
       "      <td>1.34</td>\n",
       "      <td>1.587</td>\n",
       "      <td>0.986</td>\n",
       "      <td>0.596</td>\n",
       "      <td>0.153</td>\n",
       "      <td>0.393</td>\n",
       "    </tr>\n",
       "  </tbody>\n",
       "</table>\n",
       "</div>"
      ],
      "text/plain": [
       "   Overall rank Country or region  Score  GDP per capita  Social support  \\\n",
       "0             1           Finland  7.769            1.34           1.587   \n",
       "\n",
       "   Healthy life expectancy  Freedom to make life choices  Generosity  \\\n",
       "0                    0.986                         0.596       0.153   \n",
       "\n",
       "   Perceptions of corruption  \n",
       "0                      0.393  "
      ]
     },
     "execution_count": 14,
     "metadata": {},
     "output_type": "execute_result"
    }
   ],
   "source": [
    "df[df['Score'] == df['Score'].max()]"
   ]
  },
  {
   "cell_type": "code",
   "execution_count": 18,
   "metadata": {},
   "outputs": [
    {
     "data": {
      "application/vnd.plotly.v1+json": {
       "config": {
        "plotlyServerURL": "https://plot.ly"
       },
       "data": [
        {
         "dimensions": [
          {
           "axis": {
            "matches": true
           },
           "label": "Score",
           "values": [
            7.769,
            7.6,
            7.554,
            7.494,
            7.488,
            7.48,
            7.343,
            7.307,
            7.278,
            7.246,
            7.228,
            7.167,
            7.139,
            7.09,
            7.054,
            7.021,
            6.985,
            6.923,
            6.892,
            6.852,
            6.825,
            6.726,
            6.595,
            6.592,
            6.446,
            6.444,
            6.436,
            6.375,
            6.374,
            6.354,
            6.321,
            6.3,
            6.293,
            6.262,
            6.253,
            6.223,
            6.199,
            6.198,
            6.192,
            6.182,
            6.174,
            6.149,
            6.125,
            6.118,
            6.105,
            6.1,
            6.086,
            6.07,
            6.046,
            6.028,
            6.021,
            6.008,
            5.94,
            5.895,
            5.893,
            5.89,
            5.888,
            5.886,
            5.86,
            5.809,
            5.779,
            5.758,
            5.743,
            5.718,
            5.697,
            5.693,
            5.653,
            5.648,
            5.631,
            5.603,
            5.529,
            5.525,
            5.523,
            5.467,
            5.432,
            5.43,
            5.425,
            5.386,
            5.373,
            5.339,
            5.323,
            5.287,
            5.285,
            5.274,
            5.265,
            5.261,
            5.247,
            5.211,
            5.208,
            5.208,
            5.197,
            5.192,
            5.191,
            5.175,
            5.082,
            5.044,
            5.011,
            4.996,
            4.944,
            4.913,
            4.906,
            4.883,
            4.812,
            4.799,
            4.796,
            4.722,
            4.719,
            4.707,
            4.7,
            4.696,
            4.681,
            4.668,
            4.639,
            4.628,
            4.587,
            4.559,
            4.548,
            4.534,
            4.519,
            4.516,
            4.509,
            4.49,
            4.466,
            4.461,
            4.456,
            4.437,
            4.418,
            4.39,
            4.374,
            4.366,
            4.36,
            4.35,
            4.332,
            4.286,
            4.212,
            4.189,
            4.166,
            4.107,
            4.085,
            4.015,
            3.975,
            3.973,
            3.933,
            3.802,
            3.775,
            3.663,
            3.597,
            3.488,
            3.462,
            3.41,
            3.38,
            3.334,
            3.231,
            3.203,
            3.083,
            2.853
           ]
          },
          {
           "axis": {
            "matches": true
           },
           "label": "GDP per capita",
           "values": [
            1.34,
            1.383,
            1.488,
            1.38,
            1.396,
            1.452,
            1.387,
            1.303,
            1.365,
            1.376,
            1.372,
            1.034,
            1.276,
            1.609,
            1.333,
            1.499,
            1.373,
            1.356,
            1.433,
            1.269,
            1.503,
            1.3,
            1.07,
            1.324,
            1.368,
            1.159,
            0.8,
            1.403,
            1.684,
            1.286,
            1.149,
            1.004,
            1.124,
            1.572,
            0.794,
            1.294,
            1.362,
            1.246,
            1.231,
            1.206,
            0.745,
            1.238,
            0.985,
            1.258,
            0.694,
            0.882,
            1.092,
            1.162,
            1.263,
            0.912,
            1.5,
            1.05,
            1.187,
            1.301,
            1.237,
            0.831,
            1.12,
            1.327,
            0.642,
            1.173,
            0.776,
            1.201,
            0.855,
            1.263,
            0.96,
            1.221,
            0.677,
            1.183,
            0.807,
            1.004,
            0.685,
            1.044,
            1.051,
            0.493,
            1.155,
            1.438,
            1.015,
            0.945,
            1.183,
            1.221,
            1.067,
            1.181,
            0.948,
            0.983,
            0.696,
            0.551,
            1.052,
            1.002,
            0.801,
            1.043,
            0.987,
            0.931,
            1.029,
            0.741,
            0.813,
            0.549,
            1.092,
            0.611,
            0.569,
            0.446,
            0.837,
            0.393,
            0.673,
            1.057,
            0.764,
            0.96,
            0.947,
            0.96,
            0.574,
            0.657,
            0.45,
            0,
            0.879,
            0.138,
            0.331,
            0.85,
            1.1,
            0.38,
            0.886,
            0.308,
            0.512,
            0.57,
            0.204,
            0.921,
            0.562,
            1.043,
            0.094,
            0.385,
            0.268,
            0.949,
            0.71,
            0.35,
            0.82,
            0.336,
            0.811,
            0.332,
            0.913,
            0.578,
            0.275,
            0.755,
            0.073,
            0.274,
            0.274,
            0.489,
            0.046,
            0.366,
            0.323,
            1.041,
            0.619,
            0.191,
            0.287,
            0.359,
            0.476,
            0.35,
            0.026,
            0.306
           ]
          },
          {
           "axis": {
            "matches": true
           },
           "label": "Social support",
           "values": [
            1.587,
            1.573,
            1.582,
            1.624,
            1.522,
            1.526,
            1.487,
            1.557,
            1.505,
            1.475,
            1.548,
            1.441,
            1.455,
            1.479,
            1.538,
            1.553,
            1.454,
            1.504,
            1.457,
            1.487,
            1.31,
            1.52,
            1.323,
            1.472,
            1.43,
            1.369,
            1.269,
            1.357,
            1.313,
            1.484,
            1.442,
            1.439,
            1.465,
            1.463,
            1.242,
            1.488,
            1.368,
            1.504,
            1.477,
            1.438,
            1.529,
            1.515,
            1.41,
            1.523,
            1.325,
            1.232,
            1.432,
            1.232,
            1.223,
            1.312,
            1.319,
            1.409,
            1.465,
            1.219,
            1.528,
            1.478,
            1.402,
            1.419,
            1.236,
            1.508,
            1.209,
            1.41,
            1.475,
            1.252,
            1.274,
            1.431,
            0.886,
            1.452,
            1.293,
            1.383,
            1.328,
            1.303,
            1.361,
            1.098,
            1.266,
            1.277,
            1.401,
            1.212,
            1.36,
            1.171,
            1.465,
            1.156,
            1.531,
            1.294,
            1.111,
            1.438,
            1.538,
            1.16,
            0.782,
            1.147,
            1.224,
            1.203,
            1.125,
            1.346,
            1.321,
            0.91,
            1.513,
            0.868,
            0.808,
            1.226,
            1.225,
            0.437,
            0.799,
            1.183,
            1.03,
            1.351,
            0.848,
            1.427,
            1.122,
            1.247,
            1.134,
            0.698,
            1.313,
            0.774,
            1.056,
            1.055,
            0.842,
            0.829,
            0.666,
            0.939,
            0.983,
            1.167,
            0.986,
            1,
            0.928,
            0.98,
            1.125,
            1.105,
            0.841,
            1.265,
            1.181,
            0.766,
            1.39,
            1.033,
            1.149,
            1.069,
            1.039,
            1.058,
            0.572,
            0.765,
            0.922,
            0.757,
            0.916,
            1.169,
            0.447,
            1.114,
            0.688,
            1.145,
            0.378,
            0.56,
            1.163,
            0.711,
            0.885,
            0.517,
            0,
            0.575
           ]
          },
          {
           "axis": {
            "matches": true
           },
           "label": "Healthy life expectancy",
           "values": [
            0.986,
            0.996,
            1.028,
            1.026,
            0.999,
            1.052,
            1.009,
            1.026,
            1.039,
            1.016,
            1.036,
            0.963,
            1.029,
            1.012,
            0.996,
            0.999,
            0.987,
            0.986,
            0.874,
            0.92,
            0.825,
            0.999,
            0.861,
            1.045,
            0.914,
            0.92,
            0.746,
            0.795,
            0.871,
            1.062,
            0.91,
            0.802,
            0.891,
            1.141,
            0.789,
            1.039,
            0.871,
            0.881,
            0.713,
            0.884,
            0.756,
            0.818,
            0.841,
            0.953,
            0.835,
            0.758,
            0.881,
            0.825,
            1.042,
            0.868,
            0.808,
            0.828,
            0.812,
            1.036,
            0.874,
            0.831,
            0.798,
            1.088,
            0.828,
            0.729,
            0.706,
            0.828,
            0.777,
            1.042,
            0.854,
            0.999,
            0.535,
            0.726,
            0.657,
            0.854,
            0.739,
            0.673,
            0.871,
            0.718,
            0.914,
            1.122,
            0.779,
            0.845,
            0.808,
            0.828,
            0.789,
            0.999,
            0.667,
            0.838,
            0.245,
            0.723,
            0.657,
            0.785,
            0.782,
            0.769,
            0.815,
            0.66,
            0.893,
            0.851,
            0.604,
            0.331,
            0.815,
            0.486,
            0.232,
            0.677,
            0.815,
            0.397,
            0.508,
            0.571,
            0.551,
            0.469,
            0.874,
            0.805,
            0.637,
            0.672,
            0.571,
            0.268,
            0.477,
            0.366,
            0.38,
            0.815,
            0.785,
            0.375,
            0.752,
            0.428,
            0.581,
            0.489,
            0.39,
            0.815,
            0.723,
            0.574,
            0.357,
            0.308,
            0.242,
            0.831,
            0.555,
            0.192,
            0.739,
            0.532,
            0,
            0.443,
            0.644,
            0.426,
            0.41,
            0.588,
            0.443,
            0.505,
            0.555,
            0.168,
            0.38,
            0.433,
            0.449,
            0.538,
            0.44,
            0.495,
            0.463,
            0.614,
            0.499,
            0.361,
            0.105,
            0.295
           ]
          },
          {
           "axis": {
            "matches": true
           },
           "label": "Freedom to make life choices",
           "values": [
            0.596,
            0.592,
            0.603,
            0.591,
            0.557,
            0.572,
            0.574,
            0.585,
            0.584,
            0.532,
            0.557,
            0.558,
            0.371,
            0.526,
            0.45,
            0.516,
            0.495,
            0.473,
            0.454,
            0.457,
            0.598,
            0.564,
            0.433,
            0.436,
            0.351,
            0.357,
            0.535,
            0.439,
            0.555,
            0.362,
            0.516,
            0.39,
            0.523,
            0.556,
            0.43,
            0.231,
            0.536,
            0.334,
            0.489,
            0.483,
            0.631,
            0.291,
            0.47,
            0.564,
            0.435,
            0.489,
            0.471,
            0.462,
            0.406,
            0.498,
            0.493,
            0.557,
            0.264,
            0.159,
            0.495,
            0.49,
            0.498,
            0.445,
            0.507,
            0.41,
            0.511,
            0.199,
            0.514,
            0.417,
            0.455,
            0.508,
            0.313,
            0.334,
            0.558,
            0.282,
            0.245,
            0.416,
            0.197,
            0.389,
            0.296,
            0.44,
            0.497,
            0.212,
            0.195,
            0.508,
            0.235,
            0.067,
            0.317,
            0.345,
            0.426,
            0.508,
            0.394,
            0.086,
            0.418,
            0.351,
            0.216,
            0.491,
            0.521,
            0.543,
            0.457,
            0.381,
            0.311,
            0.381,
            0.352,
            0.439,
            0.383,
            0.349,
            0.372,
            0.295,
            0.547,
            0.389,
            0.383,
            0.154,
            0.609,
            0.225,
            0.292,
            0.559,
            0.401,
            0.318,
            0.255,
            0.283,
            0.305,
            0.332,
            0.346,
            0.382,
            0.431,
            0.066,
            0.494,
            0.167,
            0.527,
            0.241,
            0.269,
            0.327,
            0.309,
            0.47,
            0.525,
            0.174,
            0.178,
            0.344,
            0.313,
            0.356,
            0.241,
            0.431,
            0.293,
            0.498,
            0.37,
            0.142,
            0.148,
            0.359,
            0.22,
            0.361,
            0.026,
            0.455,
            0.013,
            0.443,
            0.143,
            0.555,
            0.417,
            0,
            0.225,
            0.01
           ]
          },
          {
           "axis": {
            "matches": true
           },
           "label": "Generosity",
           "values": [
            0.153,
            0.252,
            0.271,
            0.354,
            0.322,
            0.263,
            0.267,
            0.33,
            0.285,
            0.244,
            0.332,
            0.144,
            0.261,
            0.194,
            0.348,
            0.298,
            0.261,
            0.16,
            0.28,
            0.046,
            0.262,
            0.375,
            0.074,
            0.111,
            0.242,
            0.187,
            0.175,
            0.08,
            0.22,
            0.153,
            0.109,
            0.099,
            0.127,
            0.271,
            0.093,
            0.158,
            0.255,
            0.121,
            0.185,
            0.117,
            0.322,
            0.043,
            0.099,
            0.144,
            0.2,
            0.262,
            0.066,
            0.083,
            0.19,
            0.126,
            0.142,
            0.359,
            0.075,
            0.175,
            0.103,
            0.107,
            0.215,
            0.069,
            0.246,
            0.146,
            0.137,
            0.081,
            0.184,
            0.191,
            0.083,
            0.047,
            0.22,
            0.082,
            0.117,
            0.137,
            0.181,
            0.133,
            0.142,
            0.23,
            0.119,
            0.258,
            0.113,
            0.263,
            0.083,
            0.26,
            0.094,
            0,
            0.235,
            0.185,
            0.215,
            0.3,
            0.244,
            0.073,
            0.036,
            0.035,
            0.166,
            0.498,
            0.058,
            0.147,
            0.37,
            0.187,
            0.081,
            0.245,
            0.154,
            0.285,
            0.11,
            0.175,
            0.105,
            0.043,
            0.266,
            0.13,
            0.178,
            0.064,
            0.232,
            0.103,
            0.153,
            0.243,
            0.07,
            0.188,
            0.177,
            0.095,
            0.27,
            0.207,
            0.043,
            0.269,
            0.372,
            0.106,
            0.197,
            0.059,
            0.166,
            0.148,
            0.212,
            0.153,
            0.252,
            0.244,
            0.566,
            0.198,
            0.187,
            0.209,
            0.074,
            0.252,
            0.076,
            0.247,
            0.177,
            0.2,
            0.233,
            0.275,
            0.169,
            0.107,
            0.176,
            0.151,
            0.419,
            0.025,
            0.331,
            0.218,
            0.108,
            0.217,
            0.276,
            0.158,
            0.235,
            0.202
           ]
          },
          {
           "axis": {
            "matches": true
           },
           "label": "Perceptions of corruption",
           "values": [
            0.393,
            0.41,
            0.341,
            0.118,
            0.298,
            0.343,
            0.373,
            0.38,
            0.308,
            0.226,
            0.29,
            0.093,
            0.082,
            0.316,
            0.278,
            0.31,
            0.265,
            0.21,
            0.128,
            0.036,
            0.182,
            0.151,
            0.073,
            0.183,
            0.097,
            0.056,
            0.078,
            0.132,
            0.167,
            0.079,
            0.054,
            0.086,
            0.15,
            0.453,
            0.074,
            0.03,
            0.11,
            0.014,
            0.016,
            0.05,
            0.24,
            0.042,
            0.034,
            0.057,
            0.127,
            0.006,
            0.05,
            0.005,
            0.041,
            0.087,
            0.097,
            0.028,
            0.064,
            0.056,
            0.161,
            0.028,
            0.06,
            0.14,
            0.078,
            0.096,
            0.064,
            0.02,
            0.08,
            0.162,
            0.027,
            0.025,
            0.098,
            0.031,
            0.107,
            0.039,
            0,
            0.152,
            0.08,
            0.144,
            0.022,
            0.287,
            0.101,
            0.006,
            0.106,
            0.024,
            0.142,
            0.034,
            0.038,
            0.034,
            0.041,
            0.023,
            0.028,
            0.114,
            0.076,
            0.182,
            0.027,
            0.028,
            0.1,
            0.073,
            0.167,
            0.037,
            0.004,
            0.04,
            0.09,
            0.089,
            0.13,
            0.082,
            0.093,
            0.055,
            0.164,
            0.055,
            0.027,
            0.047,
            0.062,
            0.066,
            0.072,
            0.27,
            0.056,
            0.102,
            0.113,
            0.064,
            0.125,
            0.086,
            0.164,
            0.167,
            0.053,
            0.088,
            0.138,
            0.055,
            0.143,
            0.089,
            0.053,
            0.052,
            0.045,
            0.047,
            0.172,
            0.078,
            0.01,
            0.1,
            0.135,
            0.06,
            0.067,
            0.087,
            0.085,
            0.085,
            0.033,
            0.078,
            0.041,
            0.093,
            0.18,
            0.089,
            0.11,
            0.1,
            0.141,
            0.089,
            0.077,
            0.411,
            0.147,
            0.025,
            0.035,
            0.091
           ]
          }
         ],
         "hovertemplate": "%{xaxis.title.text}=%{x}<br>%{yaxis.title.text}=%{y}<extra></extra>",
         "legendgroup": "",
         "marker": {
          "color": "#636efa",
          "symbol": "circle"
         },
         "name": "",
         "showlegend": false,
         "type": "splom"
        }
       ],
       "layout": {
        "dragmode": "select",
        "height": 1500,
        "legend": {
         "tracegroupgap": 0
        },
        "template": {
         "data": {
          "bar": [
           {
            "error_x": {
             "color": "#2a3f5f"
            },
            "error_y": {
             "color": "#2a3f5f"
            },
            "marker": {
             "line": {
              "color": "#E5ECF6",
              "width": 0.5
             },
             "pattern": {
              "fillmode": "overlay",
              "size": 10,
              "solidity": 0.2
             }
            },
            "type": "bar"
           }
          ],
          "barpolar": [
           {
            "marker": {
             "line": {
              "color": "#E5ECF6",
              "width": 0.5
             },
             "pattern": {
              "fillmode": "overlay",
              "size": 10,
              "solidity": 0.2
             }
            },
            "type": "barpolar"
           }
          ],
          "carpet": [
           {
            "aaxis": {
             "endlinecolor": "#2a3f5f",
             "gridcolor": "white",
             "linecolor": "white",
             "minorgridcolor": "white",
             "startlinecolor": "#2a3f5f"
            },
            "baxis": {
             "endlinecolor": "#2a3f5f",
             "gridcolor": "white",
             "linecolor": "white",
             "minorgridcolor": "white",
             "startlinecolor": "#2a3f5f"
            },
            "type": "carpet"
           }
          ],
          "choropleth": [
           {
            "colorbar": {
             "outlinewidth": 0,
             "ticks": ""
            },
            "type": "choropleth"
           }
          ],
          "contour": [
           {
            "colorbar": {
             "outlinewidth": 0,
             "ticks": ""
            },
            "colorscale": [
             [
              0,
              "#0d0887"
             ],
             [
              0.1111111111111111,
              "#46039f"
             ],
             [
              0.2222222222222222,
              "#7201a8"
             ],
             [
              0.3333333333333333,
              "#9c179e"
             ],
             [
              0.4444444444444444,
              "#bd3786"
             ],
             [
              0.5555555555555556,
              "#d8576b"
             ],
             [
              0.6666666666666666,
              "#ed7953"
             ],
             [
              0.7777777777777778,
              "#fb9f3a"
             ],
             [
              0.8888888888888888,
              "#fdca26"
             ],
             [
              1,
              "#f0f921"
             ]
            ],
            "type": "contour"
           }
          ],
          "contourcarpet": [
           {
            "colorbar": {
             "outlinewidth": 0,
             "ticks": ""
            },
            "type": "contourcarpet"
           }
          ],
          "heatmap": [
           {
            "colorbar": {
             "outlinewidth": 0,
             "ticks": ""
            },
            "colorscale": [
             [
              0,
              "#0d0887"
             ],
             [
              0.1111111111111111,
              "#46039f"
             ],
             [
              0.2222222222222222,
              "#7201a8"
             ],
             [
              0.3333333333333333,
              "#9c179e"
             ],
             [
              0.4444444444444444,
              "#bd3786"
             ],
             [
              0.5555555555555556,
              "#d8576b"
             ],
             [
              0.6666666666666666,
              "#ed7953"
             ],
             [
              0.7777777777777778,
              "#fb9f3a"
             ],
             [
              0.8888888888888888,
              "#fdca26"
             ],
             [
              1,
              "#f0f921"
             ]
            ],
            "type": "heatmap"
           }
          ],
          "heatmapgl": [
           {
            "colorbar": {
             "outlinewidth": 0,
             "ticks": ""
            },
            "colorscale": [
             [
              0,
              "#0d0887"
             ],
             [
              0.1111111111111111,
              "#46039f"
             ],
             [
              0.2222222222222222,
              "#7201a8"
             ],
             [
              0.3333333333333333,
              "#9c179e"
             ],
             [
              0.4444444444444444,
              "#bd3786"
             ],
             [
              0.5555555555555556,
              "#d8576b"
             ],
             [
              0.6666666666666666,
              "#ed7953"
             ],
             [
              0.7777777777777778,
              "#fb9f3a"
             ],
             [
              0.8888888888888888,
              "#fdca26"
             ],
             [
              1,
              "#f0f921"
             ]
            ],
            "type": "heatmapgl"
           }
          ],
          "histogram": [
           {
            "marker": {
             "pattern": {
              "fillmode": "overlay",
              "size": 10,
              "solidity": 0.2
             }
            },
            "type": "histogram"
           }
          ],
          "histogram2d": [
           {
            "colorbar": {
             "outlinewidth": 0,
             "ticks": ""
            },
            "colorscale": [
             [
              0,
              "#0d0887"
             ],
             [
              0.1111111111111111,
              "#46039f"
             ],
             [
              0.2222222222222222,
              "#7201a8"
             ],
             [
              0.3333333333333333,
              "#9c179e"
             ],
             [
              0.4444444444444444,
              "#bd3786"
             ],
             [
              0.5555555555555556,
              "#d8576b"
             ],
             [
              0.6666666666666666,
              "#ed7953"
             ],
             [
              0.7777777777777778,
              "#fb9f3a"
             ],
             [
              0.8888888888888888,
              "#fdca26"
             ],
             [
              1,
              "#f0f921"
             ]
            ],
            "type": "histogram2d"
           }
          ],
          "histogram2dcontour": [
           {
            "colorbar": {
             "outlinewidth": 0,
             "ticks": ""
            },
            "colorscale": [
             [
              0,
              "#0d0887"
             ],
             [
              0.1111111111111111,
              "#46039f"
             ],
             [
              0.2222222222222222,
              "#7201a8"
             ],
             [
              0.3333333333333333,
              "#9c179e"
             ],
             [
              0.4444444444444444,
              "#bd3786"
             ],
             [
              0.5555555555555556,
              "#d8576b"
             ],
             [
              0.6666666666666666,
              "#ed7953"
             ],
             [
              0.7777777777777778,
              "#fb9f3a"
             ],
             [
              0.8888888888888888,
              "#fdca26"
             ],
             [
              1,
              "#f0f921"
             ]
            ],
            "type": "histogram2dcontour"
           }
          ],
          "mesh3d": [
           {
            "colorbar": {
             "outlinewidth": 0,
             "ticks": ""
            },
            "type": "mesh3d"
           }
          ],
          "parcoords": [
           {
            "line": {
             "colorbar": {
              "outlinewidth": 0,
              "ticks": ""
             }
            },
            "type": "parcoords"
           }
          ],
          "pie": [
           {
            "automargin": true,
            "type": "pie"
           }
          ],
          "scatter": [
           {
            "fillpattern": {
             "fillmode": "overlay",
             "size": 10,
             "solidity": 0.2
            },
            "type": "scatter"
           }
          ],
          "scatter3d": [
           {
            "line": {
             "colorbar": {
              "outlinewidth": 0,
              "ticks": ""
             }
            },
            "marker": {
             "colorbar": {
              "outlinewidth": 0,
              "ticks": ""
             }
            },
            "type": "scatter3d"
           }
          ],
          "scattercarpet": [
           {
            "marker": {
             "colorbar": {
              "outlinewidth": 0,
              "ticks": ""
             }
            },
            "type": "scattercarpet"
           }
          ],
          "scattergeo": [
           {
            "marker": {
             "colorbar": {
              "outlinewidth": 0,
              "ticks": ""
             }
            },
            "type": "scattergeo"
           }
          ],
          "scattergl": [
           {
            "marker": {
             "colorbar": {
              "outlinewidth": 0,
              "ticks": ""
             }
            },
            "type": "scattergl"
           }
          ],
          "scattermapbox": [
           {
            "marker": {
             "colorbar": {
              "outlinewidth": 0,
              "ticks": ""
             }
            },
            "type": "scattermapbox"
           }
          ],
          "scatterpolar": [
           {
            "marker": {
             "colorbar": {
              "outlinewidth": 0,
              "ticks": ""
             }
            },
            "type": "scatterpolar"
           }
          ],
          "scatterpolargl": [
           {
            "marker": {
             "colorbar": {
              "outlinewidth": 0,
              "ticks": ""
             }
            },
            "type": "scatterpolargl"
           }
          ],
          "scatterternary": [
           {
            "marker": {
             "colorbar": {
              "outlinewidth": 0,
              "ticks": ""
             }
            },
            "type": "scatterternary"
           }
          ],
          "surface": [
           {
            "colorbar": {
             "outlinewidth": 0,
             "ticks": ""
            },
            "colorscale": [
             [
              0,
              "#0d0887"
             ],
             [
              0.1111111111111111,
              "#46039f"
             ],
             [
              0.2222222222222222,
              "#7201a8"
             ],
             [
              0.3333333333333333,
              "#9c179e"
             ],
             [
              0.4444444444444444,
              "#bd3786"
             ],
             [
              0.5555555555555556,
              "#d8576b"
             ],
             [
              0.6666666666666666,
              "#ed7953"
             ],
             [
              0.7777777777777778,
              "#fb9f3a"
             ],
             [
              0.8888888888888888,
              "#fdca26"
             ],
             [
              1,
              "#f0f921"
             ]
            ],
            "type": "surface"
           }
          ],
          "table": [
           {
            "cells": {
             "fill": {
              "color": "#EBF0F8"
             },
             "line": {
              "color": "white"
             }
            },
            "header": {
             "fill": {
              "color": "#C8D4E3"
             },
             "line": {
              "color": "white"
             }
            },
            "type": "table"
           }
          ]
         },
         "layout": {
          "annotationdefaults": {
           "arrowcolor": "#2a3f5f",
           "arrowhead": 0,
           "arrowwidth": 1
          },
          "autotypenumbers": "strict",
          "coloraxis": {
           "colorbar": {
            "outlinewidth": 0,
            "ticks": ""
           }
          },
          "colorscale": {
           "diverging": [
            [
             0,
             "#8e0152"
            ],
            [
             0.1,
             "#c51b7d"
            ],
            [
             0.2,
             "#de77ae"
            ],
            [
             0.3,
             "#f1b6da"
            ],
            [
             0.4,
             "#fde0ef"
            ],
            [
             0.5,
             "#f7f7f7"
            ],
            [
             0.6,
             "#e6f5d0"
            ],
            [
             0.7,
             "#b8e186"
            ],
            [
             0.8,
             "#7fbc41"
            ],
            [
             0.9,
             "#4d9221"
            ],
            [
             1,
             "#276419"
            ]
           ],
           "sequential": [
            [
             0,
             "#0d0887"
            ],
            [
             0.1111111111111111,
             "#46039f"
            ],
            [
             0.2222222222222222,
             "#7201a8"
            ],
            [
             0.3333333333333333,
             "#9c179e"
            ],
            [
             0.4444444444444444,
             "#bd3786"
            ],
            [
             0.5555555555555556,
             "#d8576b"
            ],
            [
             0.6666666666666666,
             "#ed7953"
            ],
            [
             0.7777777777777778,
             "#fb9f3a"
            ],
            [
             0.8888888888888888,
             "#fdca26"
            ],
            [
             1,
             "#f0f921"
            ]
           ],
           "sequentialminus": [
            [
             0,
             "#0d0887"
            ],
            [
             0.1111111111111111,
             "#46039f"
            ],
            [
             0.2222222222222222,
             "#7201a8"
            ],
            [
             0.3333333333333333,
             "#9c179e"
            ],
            [
             0.4444444444444444,
             "#bd3786"
            ],
            [
             0.5555555555555556,
             "#d8576b"
            ],
            [
             0.6666666666666666,
             "#ed7953"
            ],
            [
             0.7777777777777778,
             "#fb9f3a"
            ],
            [
             0.8888888888888888,
             "#fdca26"
            ],
            [
             1,
             "#f0f921"
            ]
           ]
          },
          "colorway": [
           "#636efa",
           "#EF553B",
           "#00cc96",
           "#ab63fa",
           "#FFA15A",
           "#19d3f3",
           "#FF6692",
           "#B6E880",
           "#FF97FF",
           "#FECB52"
          ],
          "font": {
           "color": "#2a3f5f"
          },
          "geo": {
           "bgcolor": "white",
           "lakecolor": "white",
           "landcolor": "#E5ECF6",
           "showlakes": true,
           "showland": true,
           "subunitcolor": "white"
          },
          "hoverlabel": {
           "align": "left"
          },
          "hovermode": "closest",
          "mapbox": {
           "style": "light"
          },
          "paper_bgcolor": "white",
          "plot_bgcolor": "#E5ECF6",
          "polar": {
           "angularaxis": {
            "gridcolor": "white",
            "linecolor": "white",
            "ticks": ""
           },
           "bgcolor": "#E5ECF6",
           "radialaxis": {
            "gridcolor": "white",
            "linecolor": "white",
            "ticks": ""
           }
          },
          "scene": {
           "xaxis": {
            "backgroundcolor": "#E5ECF6",
            "gridcolor": "white",
            "gridwidth": 2,
            "linecolor": "white",
            "showbackground": true,
            "ticks": "",
            "zerolinecolor": "white"
           },
           "yaxis": {
            "backgroundcolor": "#E5ECF6",
            "gridcolor": "white",
            "gridwidth": 2,
            "linecolor": "white",
            "showbackground": true,
            "ticks": "",
            "zerolinecolor": "white"
           },
           "zaxis": {
            "backgroundcolor": "#E5ECF6",
            "gridcolor": "white",
            "gridwidth": 2,
            "linecolor": "white",
            "showbackground": true,
            "ticks": "",
            "zerolinecolor": "white"
           }
          },
          "shapedefaults": {
           "line": {
            "color": "#2a3f5f"
           }
          },
          "ternary": {
           "aaxis": {
            "gridcolor": "white",
            "linecolor": "white",
            "ticks": ""
           },
           "baxis": {
            "gridcolor": "white",
            "linecolor": "white",
            "ticks": ""
           },
           "bgcolor": "#E5ECF6",
           "caxis": {
            "gridcolor": "white",
            "linecolor": "white",
            "ticks": ""
           }
          },
          "title": {
           "x": 0.05
          },
          "xaxis": {
           "automargin": true,
           "gridcolor": "white",
           "linecolor": "white",
           "ticks": "",
           "title": {
            "standoff": 15
           },
           "zerolinecolor": "white",
           "zerolinewidth": 2
          },
          "yaxis": {
           "automargin": true,
           "gridcolor": "white",
           "linecolor": "white",
           "ticks": "",
           "title": {
            "standoff": 15
           },
           "zerolinecolor": "white",
           "zerolinewidth": 2
          }
         }
        },
        "title": {
         "text": "Scatter Matrix of Happiness Report"
        },
        "width": 1500
       }
      },
      "text/html": [
       "<div>                            <div id=\"788af04e-0189-4280-b205-11b313bfece0\" class=\"plotly-graph-div\" style=\"height:1500px; width:1500px;\"></div>            <script type=\"text/javascript\">                require([\"plotly\"], function(Plotly) {                    window.PLOTLYENV=window.PLOTLYENV || {};                                    if (document.getElementById(\"788af04e-0189-4280-b205-11b313bfece0\")) {                    Plotly.newPlot(                        \"788af04e-0189-4280-b205-11b313bfece0\",                        [{\"dimensions\":[{\"axis\":{\"matches\":true},\"label\":\"Score\",\"values\":[7.769,7.6,7.554,7.494,7.488,7.48,7.343,7.307,7.278,7.246,7.228,7.167,7.139,7.09,7.054,7.021,6.985,6.923,6.892,6.852,6.825,6.726,6.595,6.592,6.446,6.444,6.436,6.375,6.374,6.354,6.321,6.3,6.293,6.262,6.253,6.223,6.199,6.198,6.192,6.182,6.174,6.149,6.125,6.118,6.105,6.1,6.086,6.07,6.046,6.028,6.021,6.008,5.94,5.895,5.893,5.89,5.888,5.886,5.86,5.809,5.779,5.758,5.743,5.718,5.697,5.693,5.653,5.648,5.631,5.603,5.529,5.525,5.523,5.467,5.432,5.43,5.425,5.386,5.373,5.339,5.323,5.287,5.285,5.274,5.265,5.261,5.247,5.211,5.208,5.208,5.197,5.192,5.191,5.175,5.082,5.044,5.011,4.996,4.944,4.913,4.906,4.883,4.812,4.799,4.796,4.722,4.719,4.707,4.7,4.696,4.681,4.668,4.639,4.628,4.587,4.559,4.548,4.534,4.519,4.516,4.509,4.49,4.466,4.461,4.456,4.437,4.418,4.39,4.374,4.366,4.36,4.35,4.332,4.286,4.212,4.189,4.166,4.107,4.085,4.015,3.975,3.973,3.933,3.802,3.775,3.663,3.597,3.488,3.462,3.41,3.38,3.334,3.231,3.203,3.083,2.853]},{\"axis\":{\"matches\":true},\"label\":\"GDP per capita\",\"values\":[1.34,1.383,1.488,1.38,1.396,1.452,1.387,1.303,1.365,1.376,1.372,1.034,1.276,1.609,1.333,1.499,1.373,1.356,1.433,1.269,1.503,1.3,1.07,1.324,1.368,1.159,0.8,1.403,1.684,1.286,1.149,1.004,1.124,1.572,0.794,1.294,1.362,1.246,1.231,1.206,0.745,1.238,0.985,1.258,0.694,0.882,1.092,1.162,1.263,0.912,1.5,1.05,1.187,1.301,1.237,0.831,1.12,1.327,0.642,1.173,0.776,1.201,0.855,1.263,0.96,1.221,0.677,1.183,0.807,1.004,0.685,1.044,1.051,0.493,1.155,1.438,1.015,0.945,1.183,1.221,1.067,1.181,0.948,0.983,0.696,0.551,1.052,1.002,0.801,1.043,0.987,0.931,1.029,0.741,0.813,0.549,1.092,0.611,0.569,0.446,0.837,0.393,0.673,1.057,0.764,0.96,0.947,0.96,0.574,0.657,0.45,0.0,0.879,0.138,0.331,0.85,1.1,0.38,0.886,0.308,0.512,0.57,0.204,0.921,0.562,1.043,0.094,0.385,0.268,0.949,0.71,0.35,0.82,0.336,0.811,0.332,0.913,0.578,0.275,0.755,0.073,0.274,0.274,0.489,0.046,0.366,0.323,1.041,0.619,0.191,0.287,0.359,0.476,0.35,0.026,0.306]},{\"axis\":{\"matches\":true},\"label\":\"Social support\",\"values\":[1.587,1.573,1.582,1.624,1.522,1.526,1.487,1.557,1.505,1.475,1.548,1.441,1.455,1.479,1.538,1.553,1.454,1.504,1.457,1.487,1.31,1.52,1.323,1.472,1.43,1.369,1.269,1.357,1.313,1.484,1.442,1.439,1.465,1.463,1.242,1.488,1.368,1.504,1.477,1.438,1.529,1.515,1.41,1.523,1.325,1.232,1.432,1.232,1.223,1.312,1.319,1.409,1.465,1.219,1.528,1.478,1.402,1.419,1.236,1.508,1.209,1.41,1.475,1.252,1.274,1.431,0.886,1.452,1.293,1.383,1.328,1.303,1.361,1.098,1.266,1.277,1.401,1.212,1.36,1.171,1.465,1.156,1.531,1.294,1.111,1.438,1.538,1.16,0.782,1.147,1.224,1.203,1.125,1.346,1.321,0.91,1.513,0.868,0.808,1.226,1.225,0.437,0.799,1.183,1.03,1.351,0.848,1.427,1.122,1.247,1.134,0.698,1.313,0.774,1.056,1.055,0.842,0.829,0.666,0.939,0.983,1.167,0.986,1.0,0.928,0.98,1.125,1.105,0.841,1.265,1.181,0.766,1.39,1.033,1.149,1.069,1.039,1.058,0.572,0.765,0.922,0.757,0.916,1.169,0.447,1.114,0.688,1.145,0.378,0.56,1.163,0.711,0.885,0.517,0.0,0.575]},{\"axis\":{\"matches\":true},\"label\":\"Healthy life expectancy\",\"values\":[0.986,0.996,1.028,1.026,0.999,1.052,1.009,1.026,1.039,1.016,1.036,0.963,1.029,1.012,0.996,0.999,0.987,0.986,0.874,0.92,0.825,0.999,0.861,1.045,0.914,0.92,0.746,0.795,0.871,1.062,0.91,0.802,0.891,1.141,0.789,1.039,0.871,0.881,0.713,0.884,0.756,0.818,0.841,0.953,0.835,0.758,0.881,0.825,1.042,0.868,0.808,0.828,0.812,1.036,0.874,0.831,0.798,1.088,0.828,0.729,0.706,0.828,0.777,1.042,0.854,0.999,0.535,0.726,0.657,0.854,0.739,0.673,0.871,0.718,0.914,1.122,0.779,0.845,0.808,0.828,0.789,0.999,0.667,0.838,0.245,0.723,0.657,0.785,0.782,0.769,0.815,0.66,0.893,0.851,0.604,0.331,0.815,0.486,0.232,0.677,0.815,0.397,0.508,0.571,0.551,0.469,0.874,0.805,0.637,0.672,0.571,0.268,0.477,0.366,0.38,0.815,0.785,0.375,0.752,0.428,0.581,0.489,0.39,0.815,0.723,0.574,0.357,0.308,0.242,0.831,0.555,0.192,0.739,0.532,0.0,0.443,0.644,0.426,0.41,0.588,0.443,0.505,0.555,0.168,0.38,0.433,0.449,0.538,0.44,0.495,0.463,0.614,0.499,0.361,0.105,0.295]},{\"axis\":{\"matches\":true},\"label\":\"Freedom to make life choices\",\"values\":[0.596,0.592,0.603,0.591,0.557,0.572,0.574,0.585,0.584,0.532,0.557,0.558,0.371,0.526,0.45,0.516,0.495,0.473,0.454,0.457,0.598,0.564,0.433,0.436,0.351,0.357,0.535,0.439,0.555,0.362,0.516,0.39,0.523,0.556,0.43,0.231,0.536,0.334,0.489,0.483,0.631,0.291,0.47,0.564,0.435,0.489,0.471,0.462,0.406,0.498,0.493,0.557,0.264,0.159,0.495,0.49,0.498,0.445,0.507,0.41,0.511,0.199,0.514,0.417,0.455,0.508,0.313,0.334,0.558,0.282,0.245,0.416,0.197,0.389,0.296,0.44,0.497,0.212,0.195,0.508,0.235,0.067,0.317,0.345,0.426,0.508,0.394,0.086,0.418,0.351,0.216,0.491,0.521,0.543,0.457,0.381,0.311,0.381,0.352,0.439,0.383,0.349,0.372,0.295,0.547,0.389,0.383,0.154,0.609,0.225,0.292,0.559,0.401,0.318,0.255,0.283,0.305,0.332,0.346,0.382,0.431,0.066,0.494,0.167,0.527,0.241,0.269,0.327,0.309,0.47,0.525,0.174,0.178,0.344,0.313,0.356,0.241,0.431,0.293,0.498,0.37,0.142,0.148,0.359,0.22,0.361,0.026,0.455,0.013,0.443,0.143,0.555,0.417,0.0,0.225,0.01]},{\"axis\":{\"matches\":true},\"label\":\"Generosity\",\"values\":[0.153,0.252,0.271,0.354,0.322,0.263,0.267,0.33,0.285,0.244,0.332,0.144,0.261,0.194,0.348,0.298,0.261,0.16,0.28,0.046,0.262,0.375,0.074,0.111,0.242,0.187,0.175,0.08,0.22,0.153,0.109,0.099,0.127,0.271,0.093,0.158,0.255,0.121,0.185,0.117,0.322,0.043,0.099,0.144,0.2,0.262,0.066,0.083,0.19,0.126,0.142,0.359,0.075,0.175,0.103,0.107,0.215,0.069,0.246,0.146,0.137,0.081,0.184,0.191,0.083,0.047,0.22,0.082,0.117,0.137,0.181,0.133,0.142,0.23,0.119,0.258,0.113,0.263,0.083,0.26,0.094,0.0,0.235,0.185,0.215,0.3,0.244,0.073,0.036,0.035,0.166,0.498,0.058,0.147,0.37,0.187,0.081,0.245,0.154,0.285,0.11,0.175,0.105,0.043,0.266,0.13,0.178,0.064,0.232,0.103,0.153,0.243,0.07,0.188,0.177,0.095,0.27,0.207,0.043,0.269,0.372,0.106,0.197,0.059,0.166,0.148,0.212,0.153,0.252,0.244,0.566,0.198,0.187,0.209,0.074,0.252,0.076,0.247,0.177,0.2,0.233,0.275,0.169,0.107,0.176,0.151,0.419,0.025,0.331,0.218,0.108,0.217,0.276,0.158,0.235,0.202]},{\"axis\":{\"matches\":true},\"label\":\"Perceptions of corruption\",\"values\":[0.393,0.41,0.341,0.118,0.298,0.343,0.373,0.38,0.308,0.226,0.29,0.093,0.082,0.316,0.278,0.31,0.265,0.21,0.128,0.036,0.182,0.151,0.073,0.183,0.097,0.056,0.078,0.132,0.167,0.079,0.054,0.086,0.15,0.453,0.074,0.03,0.11,0.014,0.016,0.05,0.24,0.042,0.034,0.057,0.127,0.006,0.05,0.005,0.041,0.087,0.097,0.028,0.064,0.056,0.161,0.028,0.06,0.14,0.078,0.096,0.064,0.02,0.08,0.162,0.027,0.025,0.098,0.031,0.107,0.039,0.0,0.152,0.08,0.144,0.022,0.287,0.101,0.006,0.106,0.024,0.142,0.034,0.038,0.034,0.041,0.023,0.028,0.114,0.076,0.182,0.027,0.028,0.1,0.073,0.167,0.037,0.004,0.04,0.09,0.089,0.13,0.082,0.093,0.055,0.164,0.055,0.027,0.047,0.062,0.066,0.072,0.27,0.056,0.102,0.113,0.064,0.125,0.086,0.164,0.167,0.053,0.088,0.138,0.055,0.143,0.089,0.053,0.052,0.045,0.047,0.172,0.078,0.01,0.1,0.135,0.06,0.067,0.087,0.085,0.085,0.033,0.078,0.041,0.093,0.18,0.089,0.11,0.1,0.141,0.089,0.077,0.411,0.147,0.025,0.035,0.091]}],\"hovertemplate\":\"%{xaxis.title.text}=%{x}\\u003cbr\\u003e%{yaxis.title.text}=%{y}\\u003cextra\\u003e\\u003c\\u002fextra\\u003e\",\"legendgroup\":\"\",\"marker\":{\"color\":\"#636efa\",\"symbol\":\"circle\"},\"name\":\"\",\"showlegend\":false,\"type\":\"splom\"}],                        {\"template\":{\"data\":{\"histogram2dcontour\":[{\"type\":\"histogram2dcontour\",\"colorbar\":{\"outlinewidth\":0,\"ticks\":\"\"},\"colorscale\":[[0.0,\"#0d0887\"],[0.1111111111111111,\"#46039f\"],[0.2222222222222222,\"#7201a8\"],[0.3333333333333333,\"#9c179e\"],[0.4444444444444444,\"#bd3786\"],[0.5555555555555556,\"#d8576b\"],[0.6666666666666666,\"#ed7953\"],[0.7777777777777778,\"#fb9f3a\"],[0.8888888888888888,\"#fdca26\"],[1.0,\"#f0f921\"]]}],\"choropleth\":[{\"type\":\"choropleth\",\"colorbar\":{\"outlinewidth\":0,\"ticks\":\"\"}}],\"histogram2d\":[{\"type\":\"histogram2d\",\"colorbar\":{\"outlinewidth\":0,\"ticks\":\"\"},\"colorscale\":[[0.0,\"#0d0887\"],[0.1111111111111111,\"#46039f\"],[0.2222222222222222,\"#7201a8\"],[0.3333333333333333,\"#9c179e\"],[0.4444444444444444,\"#bd3786\"],[0.5555555555555556,\"#d8576b\"],[0.6666666666666666,\"#ed7953\"],[0.7777777777777778,\"#fb9f3a\"],[0.8888888888888888,\"#fdca26\"],[1.0,\"#f0f921\"]]}],\"heatmap\":[{\"type\":\"heatmap\",\"colorbar\":{\"outlinewidth\":0,\"ticks\":\"\"},\"colorscale\":[[0.0,\"#0d0887\"],[0.1111111111111111,\"#46039f\"],[0.2222222222222222,\"#7201a8\"],[0.3333333333333333,\"#9c179e\"],[0.4444444444444444,\"#bd3786\"],[0.5555555555555556,\"#d8576b\"],[0.6666666666666666,\"#ed7953\"],[0.7777777777777778,\"#fb9f3a\"],[0.8888888888888888,\"#fdca26\"],[1.0,\"#f0f921\"]]}],\"heatmapgl\":[{\"type\":\"heatmapgl\",\"colorbar\":{\"outlinewidth\":0,\"ticks\":\"\"},\"colorscale\":[[0.0,\"#0d0887\"],[0.1111111111111111,\"#46039f\"],[0.2222222222222222,\"#7201a8\"],[0.3333333333333333,\"#9c179e\"],[0.4444444444444444,\"#bd3786\"],[0.5555555555555556,\"#d8576b\"],[0.6666666666666666,\"#ed7953\"],[0.7777777777777778,\"#fb9f3a\"],[0.8888888888888888,\"#fdca26\"],[1.0,\"#f0f921\"]]}],\"contourcarpet\":[{\"type\":\"contourcarpet\",\"colorbar\":{\"outlinewidth\":0,\"ticks\":\"\"}}],\"contour\":[{\"type\":\"contour\",\"colorbar\":{\"outlinewidth\":0,\"ticks\":\"\"},\"colorscale\":[[0.0,\"#0d0887\"],[0.1111111111111111,\"#46039f\"],[0.2222222222222222,\"#7201a8\"],[0.3333333333333333,\"#9c179e\"],[0.4444444444444444,\"#bd3786\"],[0.5555555555555556,\"#d8576b\"],[0.6666666666666666,\"#ed7953\"],[0.7777777777777778,\"#fb9f3a\"],[0.8888888888888888,\"#fdca26\"],[1.0,\"#f0f921\"]]}],\"surface\":[{\"type\":\"surface\",\"colorbar\":{\"outlinewidth\":0,\"ticks\":\"\"},\"colorscale\":[[0.0,\"#0d0887\"],[0.1111111111111111,\"#46039f\"],[0.2222222222222222,\"#7201a8\"],[0.3333333333333333,\"#9c179e\"],[0.4444444444444444,\"#bd3786\"],[0.5555555555555556,\"#d8576b\"],[0.6666666666666666,\"#ed7953\"],[0.7777777777777778,\"#fb9f3a\"],[0.8888888888888888,\"#fdca26\"],[1.0,\"#f0f921\"]]}],\"mesh3d\":[{\"type\":\"mesh3d\",\"colorbar\":{\"outlinewidth\":0,\"ticks\":\"\"}}],\"scatter\":[{\"fillpattern\":{\"fillmode\":\"overlay\",\"size\":10,\"solidity\":0.2},\"type\":\"scatter\"}],\"parcoords\":[{\"type\":\"parcoords\",\"line\":{\"colorbar\":{\"outlinewidth\":0,\"ticks\":\"\"}}}],\"scatterpolargl\":[{\"type\":\"scatterpolargl\",\"marker\":{\"colorbar\":{\"outlinewidth\":0,\"ticks\":\"\"}}}],\"bar\":[{\"error_x\":{\"color\":\"#2a3f5f\"},\"error_y\":{\"color\":\"#2a3f5f\"},\"marker\":{\"line\":{\"color\":\"#E5ECF6\",\"width\":0.5},\"pattern\":{\"fillmode\":\"overlay\",\"size\":10,\"solidity\":0.2}},\"type\":\"bar\"}],\"scattergeo\":[{\"type\":\"scattergeo\",\"marker\":{\"colorbar\":{\"outlinewidth\":0,\"ticks\":\"\"}}}],\"scatterpolar\":[{\"type\":\"scatterpolar\",\"marker\":{\"colorbar\":{\"outlinewidth\":0,\"ticks\":\"\"}}}],\"histogram\":[{\"marker\":{\"pattern\":{\"fillmode\":\"overlay\",\"size\":10,\"solidity\":0.2}},\"type\":\"histogram\"}],\"scattergl\":[{\"type\":\"scattergl\",\"marker\":{\"colorbar\":{\"outlinewidth\":0,\"ticks\":\"\"}}}],\"scatter3d\":[{\"type\":\"scatter3d\",\"line\":{\"colorbar\":{\"outlinewidth\":0,\"ticks\":\"\"}},\"marker\":{\"colorbar\":{\"outlinewidth\":0,\"ticks\":\"\"}}}],\"scattermapbox\":[{\"type\":\"scattermapbox\",\"marker\":{\"colorbar\":{\"outlinewidth\":0,\"ticks\":\"\"}}}],\"scatterternary\":[{\"type\":\"scatterternary\",\"marker\":{\"colorbar\":{\"outlinewidth\":0,\"ticks\":\"\"}}}],\"scattercarpet\":[{\"type\":\"scattercarpet\",\"marker\":{\"colorbar\":{\"outlinewidth\":0,\"ticks\":\"\"}}}],\"carpet\":[{\"aaxis\":{\"endlinecolor\":\"#2a3f5f\",\"gridcolor\":\"white\",\"linecolor\":\"white\",\"minorgridcolor\":\"white\",\"startlinecolor\":\"#2a3f5f\"},\"baxis\":{\"endlinecolor\":\"#2a3f5f\",\"gridcolor\":\"white\",\"linecolor\":\"white\",\"minorgridcolor\":\"white\",\"startlinecolor\":\"#2a3f5f\"},\"type\":\"carpet\"}],\"table\":[{\"cells\":{\"fill\":{\"color\":\"#EBF0F8\"},\"line\":{\"color\":\"white\"}},\"header\":{\"fill\":{\"color\":\"#C8D4E3\"},\"line\":{\"color\":\"white\"}},\"type\":\"table\"}],\"barpolar\":[{\"marker\":{\"line\":{\"color\":\"#E5ECF6\",\"width\":0.5},\"pattern\":{\"fillmode\":\"overlay\",\"size\":10,\"solidity\":0.2}},\"type\":\"barpolar\"}],\"pie\":[{\"automargin\":true,\"type\":\"pie\"}]},\"layout\":{\"autotypenumbers\":\"strict\",\"colorway\":[\"#636efa\",\"#EF553B\",\"#00cc96\",\"#ab63fa\",\"#FFA15A\",\"#19d3f3\",\"#FF6692\",\"#B6E880\",\"#FF97FF\",\"#FECB52\"],\"font\":{\"color\":\"#2a3f5f\"},\"hovermode\":\"closest\",\"hoverlabel\":{\"align\":\"left\"},\"paper_bgcolor\":\"white\",\"plot_bgcolor\":\"#E5ECF6\",\"polar\":{\"bgcolor\":\"#E5ECF6\",\"angularaxis\":{\"gridcolor\":\"white\",\"linecolor\":\"white\",\"ticks\":\"\"},\"radialaxis\":{\"gridcolor\":\"white\",\"linecolor\":\"white\",\"ticks\":\"\"}},\"ternary\":{\"bgcolor\":\"#E5ECF6\",\"aaxis\":{\"gridcolor\":\"white\",\"linecolor\":\"white\",\"ticks\":\"\"},\"baxis\":{\"gridcolor\":\"white\",\"linecolor\":\"white\",\"ticks\":\"\"},\"caxis\":{\"gridcolor\":\"white\",\"linecolor\":\"white\",\"ticks\":\"\"}},\"coloraxis\":{\"colorbar\":{\"outlinewidth\":0,\"ticks\":\"\"}},\"colorscale\":{\"sequential\":[[0.0,\"#0d0887\"],[0.1111111111111111,\"#46039f\"],[0.2222222222222222,\"#7201a8\"],[0.3333333333333333,\"#9c179e\"],[0.4444444444444444,\"#bd3786\"],[0.5555555555555556,\"#d8576b\"],[0.6666666666666666,\"#ed7953\"],[0.7777777777777778,\"#fb9f3a\"],[0.8888888888888888,\"#fdca26\"],[1.0,\"#f0f921\"]],\"sequentialminus\":[[0.0,\"#0d0887\"],[0.1111111111111111,\"#46039f\"],[0.2222222222222222,\"#7201a8\"],[0.3333333333333333,\"#9c179e\"],[0.4444444444444444,\"#bd3786\"],[0.5555555555555556,\"#d8576b\"],[0.6666666666666666,\"#ed7953\"],[0.7777777777777778,\"#fb9f3a\"],[0.8888888888888888,\"#fdca26\"],[1.0,\"#f0f921\"]],\"diverging\":[[0,\"#8e0152\"],[0.1,\"#c51b7d\"],[0.2,\"#de77ae\"],[0.3,\"#f1b6da\"],[0.4,\"#fde0ef\"],[0.5,\"#f7f7f7\"],[0.6,\"#e6f5d0\"],[0.7,\"#b8e186\"],[0.8,\"#7fbc41\"],[0.9,\"#4d9221\"],[1,\"#276419\"]]},\"xaxis\":{\"gridcolor\":\"white\",\"linecolor\":\"white\",\"ticks\":\"\",\"title\":{\"standoff\":15},\"zerolinecolor\":\"white\",\"automargin\":true,\"zerolinewidth\":2},\"yaxis\":{\"gridcolor\":\"white\",\"linecolor\":\"white\",\"ticks\":\"\",\"title\":{\"standoff\":15},\"zerolinecolor\":\"white\",\"automargin\":true,\"zerolinewidth\":2},\"scene\":{\"xaxis\":{\"backgroundcolor\":\"#E5ECF6\",\"gridcolor\":\"white\",\"linecolor\":\"white\",\"showbackground\":true,\"ticks\":\"\",\"zerolinecolor\":\"white\",\"gridwidth\":2},\"yaxis\":{\"backgroundcolor\":\"#E5ECF6\",\"gridcolor\":\"white\",\"linecolor\":\"white\",\"showbackground\":true,\"ticks\":\"\",\"zerolinecolor\":\"white\",\"gridwidth\":2},\"zaxis\":{\"backgroundcolor\":\"#E5ECF6\",\"gridcolor\":\"white\",\"linecolor\":\"white\",\"showbackground\":true,\"ticks\":\"\",\"zerolinecolor\":\"white\",\"gridwidth\":2}},\"shapedefaults\":{\"line\":{\"color\":\"#2a3f5f\"}},\"annotationdefaults\":{\"arrowcolor\":\"#2a3f5f\",\"arrowhead\":0,\"arrowwidth\":1},\"geo\":{\"bgcolor\":\"white\",\"landcolor\":\"#E5ECF6\",\"subunitcolor\":\"white\",\"showland\":true,\"showlakes\":true,\"lakecolor\":\"white\"},\"title\":{\"x\":0.05},\"mapbox\":{\"style\":\"light\"}}},\"legend\":{\"tracegroupgap\":0},\"title\":{\"text\":\"Scatter Matrix of Happiness Report\"},\"dragmode\":\"select\",\"height\":1500,\"width\":1500},                        {\"responsive\": true}                    ).then(function(){\n",
       "                            \n",
       "var gd = document.getElementById('788af04e-0189-4280-b205-11b313bfece0');\n",
       "var x = new MutationObserver(function (mutations, observer) {{\n",
       "        var display = window.getComputedStyle(gd).display;\n",
       "        if (!display || display === 'none') {{\n",
       "            console.log([gd, 'removed!']);\n",
       "            Plotly.purge(gd);\n",
       "            observer.disconnect();\n",
       "        }}\n",
       "}});\n",
       "\n",
       "// Listen for the removal of the full notebook cells\n",
       "var notebookContainer = gd.closest('#notebook-container');\n",
       "if (notebookContainer) {{\n",
       "    x.observe(notebookContainer, {childList: true});\n",
       "}}\n",
       "\n",
       "// Listen for the clearing of the current output cell\n",
       "var outputEl = gd.closest('.output');\n",
       "if (outputEl) {{\n",
       "    x.observe(outputEl, {childList: true});\n",
       "}}\n",
       "\n",
       "                        })                };                });            </script>        </div>"
      ]
     },
     "metadata": {},
     "output_type": "display_data"
    }
   ],
   "source": [
    "fig = px.scatter_matrix(df[['Score', 'GDP per capita', 'Social support', 'Healthy life expectancy', 'Freedom to make life choices', 'Generosity', 'Perceptions of corruption']], width=1500, height=1500, title='Scatter Matrix of Happiness Report')\n",
    "fig.show()"
   ]
  },
  {
   "cell_type": "code",
   "execution_count": null,
   "metadata": {},
   "outputs": [],
   "source": []
  }
 ],
 "metadata": {
  "kernelspec": {
   "display_name": "Python 3",
   "language": "python",
   "name": "python3"
  },
  "language_info": {
   "codemirror_mode": {
    "name": "ipython",
    "version": 3
   },
   "file_extension": ".py",
   "mimetype": "text/x-python",
   "name": "python",
   "nbconvert_exporter": "python",
   "pygments_lexer": "ipython3",
   "version": "3.12.1"
  }
 },
 "nbformat": 4,
 "nbformat_minor": 2
}
